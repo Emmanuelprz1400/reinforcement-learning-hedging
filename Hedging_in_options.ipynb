{
  "cells": [
    {
      "cell_type": "markdown",
      "metadata": {
        "id": "view-in-github",
        "colab_type": "text"
      },
      "source": [
        "<a href=\"https://colab.research.google.com/github/Emmanuelprz1400/reinforcement-learning-hedging/blob/main/Hedging_in_options.ipynb\" target=\"_parent\"><img src=\"https://colab.research.google.com/assets/colab-badge.svg\" alt=\"Open In Colab\"/></a>"
      ]
    },
    {
      "cell_type": "markdown",
      "source": [
        "# Reinforcement Learning (Aprendizaje por refuerzo) - Hedging en opciones"
      ],
      "metadata": {
        "id": "LgzsbunkPt3q"
      }
    },
    {
      "cell_type": "markdown",
      "source": [
        "# Dependencias"
      ],
      "metadata": {
        "id": "XjYeio_xaF5n"
      }
    },
    {
      "cell_type": "code",
      "execution_count": null,
      "metadata": {
        "id": "-dsbufATU_5E"
      },
      "outputs": [],
      "source": [
        "import numpy as np\n",
        "from scipy.stats import norm\n",
        "import random\n",
        "import matplotlib.pyplot as plt\n",
        "import pandas as pd\n",
        "\n",
        "from tqdm.notebook import tqdm\n",
        "\n",
        "n = norm.pdf\n",
        "N = norm.cdf"
      ]
    },
    {
      "cell_type": "code",
      "source": [
        "from google.colab import drive\n",
        "drive.mount('/content/drive')"
      ],
      "metadata": {
        "id": "32ZsfrDbcEUE",
        "colab": {
          "base_uri": "https://localhost:8080/"
        },
        "outputId": "b8362bee-658b-4d2b-f045-f8db017d6041"
      },
      "execution_count": null,
      "outputs": [
        {
          "output_type": "stream",
          "name": "stdout",
          "text": [
            "Mounted at /content/drive\n"
          ]
        }
      ]
    },
    {
      "cell_type": "code",
      "source": [
        "# Ejemplo de la función auxiliar\n",
        "total = 0\n",
        "for i in tqdm(range(10000000)):\n",
        "  total += 1"
      ],
      "metadata": {
        "id": "dU3d65hNJw5s",
        "colab": {
          "base_uri": "https://localhost:8080/",
          "height": 49,
          "referenced_widgets": [
            "c86e013e2f5b4ac2b24540101ce79f29",
            "ba0e8d7ff3ad435d801a0972c9651d57",
            "b18dd00562ca435a84d60a7ee3461efb",
            "8faf277a988647b08db97831ff3c361c",
            "ca5d3b69f1d34795ad0472ef07544172",
            "6503f98b522744cb98acf1bedc4ead86",
            "9108ae82d26b403382c090ff65d19afb",
            "b06be2811d394604baa606d60c4461bd",
            "97fb834cfda941299d2b4bbbc7eded78",
            "7f60ff7369b8404ba4daf77ea936243e",
            "b22fd17e1d534ab586b86c7a05a51034"
          ]
        },
        "outputId": "24170c99-66aa-419b-8aec-86f0d56c922e"
      },
      "execution_count": null,
      "outputs": [
        {
          "output_type": "display_data",
          "data": {
            "text/plain": [
              "  0%|          | 0/10000000 [00:00<?, ?it/s]"
            ],
            "application/vnd.jupyter.widget-view+json": {
              "version_major": 2,
              "version_minor": 0,
              "model_id": "c86e013e2f5b4ac2b24540101ce79f29"
            }
          },
          "metadata": {}
        }
      ]
    },
    {
      "cell_type": "markdown",
      "source": [
        "# Funciones Auxiliares"
      ],
      "metadata": {
        "id": "kk74pvlkaIyV"
      }
    },
    {
      "cell_type": "code",
      "execution_count": null,
      "metadata": {
        "id": "CNgbEvC0U_5H"
      },
      "outputs": [],
      "source": [
        "# Para la simulación de las trayectorias de la acción utilizando Black-Scholes\n",
        "def brownian_sim(num_path, num_period, mu, std, init_p, dt):\n",
        "    z = np.random.normal(size=(num_path, num_period))\n",
        "\n",
        "    a_price = np.zeros((num_path, num_period))\n",
        "    a_price[:, 0] = init_p\n",
        "\n",
        "    for t in range(num_period - 1):\n",
        "        a_price[:, t+1] = a_price[:, t] * np.exp(\n",
        "            (mu - (std ** 2) / 2) * dt + std * np.sqrt(dt) * z[:, t]\n",
        "        )\n",
        "    return a_price\n",
        "\n",
        "# Función para la valuación de Opciones (Call) y cálculo de Delta usando Black-Scholes\n",
        "# T es el tiempo de madurez anualizado\n",
        "def bs_parameter(v, T, S, K, r, q):\n",
        "    np.seterr(divide='ignore', invalid='ignore')\n",
        "    d1 = (np.log(S / K) + (r - q + v * v / 2) * T) / (v * np.sqrt(T))\n",
        "    d2 = d1 - v * np.sqrt(T)\n",
        "    bs_price = S * np.exp(-q * T) * norm.cdf(d1) - K * np.exp(-r * T) * norm.cdf(d2)\n",
        "    bs_delta = np.exp(-q * T) * norm.cdf(d1)\n",
        "    return bs_price, bs_delta\n"
      ]
    },
    {
      "cell_type": "code",
      "execution_count": null,
      "metadata": {
        "id": "P3cejy7_U_5I"
      },
      "outputs": [],
      "source": [
        "# Define el numero de trayectorias generadas para entrenamiento y prueba\n",
        "TRAINING_SAMPLE = 3000000 # 3,000K\n",
        "TESTING_SAMPLE = 100000 # 100K\n",
        "\n",
        "# Características del activo subyacente\n",
        "# Retorno anual de la acción\n",
        "MU = 0\n",
        "# Volatilidad anual\n",
        "VOL = 0.2\n",
        "# Valor inicial del activo\n",
        "S = 100\n",
        "# Retorno anual ofrecido por un activo con cero riesgo (Risk Free Rate)\n",
        "R = 0.05\n",
        "# Dividendos anuales\n",
        "DIVIDEND = 0\n",
        "# Días al año para compra-venta (trading)\n",
        "T = 250\n",
        "\n",
        "# Características de la Opción Call\n",
        "# Precio acordado en la Opción (Strike)\n",
        "K = 100\n",
        "# Tiempo de madurez de la opción\n",
        "M = 10\n",
        "# Número de posiciones posibles[de 0 a 10] (estado)\n",
        "N_POSITION = 11\n",
        "# Número de acciones posibles [de -5 a 5]\n",
        "N_ACTION = 11\n",
        "\n",
        "# Costo por 'Trading', medido porcentualmente\n",
        "TRADING_COST = 0.01\n",
        "\n",
        "# Definición de variables para aprendizaje por refuerzo\n",
        "# Constante para la función de recompensa\n",
        "constant = 1\n",
        "# epsilon mínimo\n",
        "MIN_e = 0.05\n",
        "# epsilon inicial\n",
        "e = 1\n",
        "# Decaimiento temporal\n",
        "DECAY = 0.999999\n",
        "\n",
        "# Parámetros para actualizar Q\n",
        "ALPHA = 0.01\n",
        "\n",
        "# Escoger el número de estados para el precio de la acción. Los precios se redondean al entero mas cercano.\n",
        "# Precios mayores o iguales a 107 son tomados como el mismo estado\n",
        "# Precios menores o iguales a 93 son tomados como el mismo estado\n",
        "STOCK_PRICE_STATE = 15"
      ]
    },
    {
      "cell_type": "code",
      "execution_count": null,
      "metadata": {
        "id": "6NDde-FmU_5J"
      },
      "outputs": [],
      "source": [
        "# Avance de tiempo por día\n",
        "dt = 1/T\n",
        "\n",
        "# Serie para el tiempo de madurez de la opción\n",
        "ttm = np.arange(M,-1, -1)"
      ]
    },
    {
      "cell_type": "code",
      "execution_count": null,
      "metadata": {
        "id": "4qy44wfqU_5K"
      },
      "outputs": [],
      "source": [
        "# Inicializa Q con valores cero para los pares estado-decisión (acción)\n",
        "q = np.zeros((M+1,STOCK_PRICE_STATE,N_POSITION,N_ACTION))"
      ]
    },
    {
      "cell_type": "code",
      "source": [
        "# Las dimensions representan: Madurez, Precio de activo, Estado de Hedge, Acción a tomar\n",
        "q.shape"
      ],
      "metadata": {
        "id": "rNG9L0NWbpoD",
        "colab": {
          "base_uri": "https://localhost:8080/"
        },
        "outputId": "1d33d6a6-ef30-4dd3-93c9-c29ce4b19cd3"
      },
      "execution_count": null,
      "outputs": [
        {
          "output_type": "execute_result",
          "data": {
            "text/plain": [
              "(11, 15, 11, 11)"
            ]
          },
          "metadata": {},
          "execution_count": 52
        }
      ]
    },
    {
      "cell_type": "code",
      "source": [
        "# Acciones a tomar cuando\n",
        "# El tiempo de madurez llegó a 10, el precio del activo es 100 (la posición del 7) y posee 8 opciones\n",
        "q[10,7,8]"
      ],
      "metadata": {
        "id": "P7vWkC1sRarl",
        "colab": {
          "base_uri": "https://localhost:8080/"
        },
        "outputId": "e7a7d30a-c27f-49db-84f9-eda2772608ea"
      },
      "execution_count": null,
      "outputs": [
        {
          "output_type": "execute_result",
          "data": {
            "text/plain": [
              "array([0., 0., 0., 0., 0., 0., 0., 0., 0., 0., 0.])"
            ]
          },
          "metadata": {},
          "execution_count": 53
        }
      ]
    },
    {
      "cell_type": "markdown",
      "source": [
        "# Fase de entrenamiento"
      ],
      "metadata": {
        "id": "fUFvGkYAc18R"
      }
    },
    {
      "cell_type": "code",
      "source": [
        "# Solo para mejorar visualmente\n",
        "np.set_printoptions(suppress=True)"
      ],
      "metadata": {
        "id": "ea8N4D8WeIcR"
      },
      "execution_count": null,
      "outputs": []
    },
    {
      "cell_type": "code",
      "source": [
        "# Simulación de trayectorias y cálculo de parámetros BS para fase de entrenamiento\n",
        "price_table = brownian_sim(TRAINING_SAMPLE,M+1, MU, VOL, S, dt)\n",
        "call_price_table, delta_table = bs_parameter(VOL, ttm / T, price_table, K,R, DIVIDEND)\n",
        "print(\"Simulación de trayectorias de activos y calculo de parámetros BS completados\")"
      ],
      "metadata": {
        "id": "wFI4RVQRdFae",
        "colab": {
          "base_uri": "https://localhost:8080/"
        },
        "outputId": "4125fb7d-80d8-44e5-aa19-5ab3ac8e7e95"
      },
      "execution_count": null,
      "outputs": [
        {
          "output_type": "stream",
          "name": "stdout",
          "text": [
            "Simulación de trayectorias de activos y calculo de parámetros BS completados\n"
          ]
        }
      ]
    },
    {
      "cell_type": "code",
      "source": [
        "price_table.shape"
      ],
      "metadata": {
        "id": "KeqsZhbBmdJe",
        "colab": {
          "base_uri": "https://localhost:8080/"
        },
        "outputId": "6bc90c96-e8a9-4956-b0f4-fdff11437a72"
      },
      "execution_count": null,
      "outputs": [
        {
          "output_type": "execute_result",
          "data": {
            "text/plain": [
              "(3000000, 11)"
            ]
          },
          "metadata": {},
          "execution_count": 56
        }
      ]
    },
    {
      "cell_type": "code",
      "source": [
        "# Varios caminos (puede ser uno solo cambiando el rango)\n",
        "for i in range(50):\n",
        "  plt.plot(price_table[i,:])"
      ],
      "metadata": {
        "id": "vMxTeBc8mnHH",
        "colab": {
          "base_uri": "https://localhost:8080/",
          "height": 430
        },
        "outputId": "b1ff19a9-90d6-45db-e499-ea1e1da73379"
      },
      "execution_count": null,
      "outputs": [
        {
          "output_type": "display_data",
          "data": {
            "text/plain": [
              "<Figure size 640x480 with 1 Axes>"
            ],
            "image/png": "[encoded data removed]"
          },
          "metadata": {}
        }
      ]
    },
    {
      "cell_type": "code",
      "source": [
        "# Podremos ver el elemento j-ésimo de la tabla de precios, precio del call, etc\n",
        "j=4"
      ],
      "metadata": {
        "id": "Zy8UvzEQd5s5"
      },
      "execution_count": null,
      "outputs": []
    },
    {
      "cell_type": "code",
      "source": [
        "price_table[j]"
      ],
      "metadata": {
        "id": "v8NKWupOdvSj",
        "colab": {
          "base_uri": "https://localhost:8080/"
        },
        "outputId": "48b22a93-20dd-4cd8-e273-38f53186eb36"
      },
      "execution_count": null,
      "outputs": [
        {
          "output_type": "execute_result",
          "data": {
            "text/plain": [
              "array([100.        , 101.24441421, 101.64933099, 102.65181571,\n",
              "       102.65825039, 101.84965235, 101.73269323, 101.99593789,\n",
              "       102.01200805, 104.61357898, 105.80297347])"
            ]
          },
          "metadata": {},
          "execution_count": 40
        }
      ]
    },
    {
      "cell_type": "code",
      "source": [
        "call_price_table[j]"
      ],
      "metadata": {
        "id": "VvAlsCskdMeL",
        "colab": {
          "base_uri": "https://localhost:8080/"
        },
        "outputId": "ff1ab603-2f53-4190-8cec-28c8d2950f29"
      },
      "execution_count": null,
      "outputs": [
        {
          "output_type": "execute_result",
          "data": {
            "text/plain": [
              "array([0.24430832, 0.38371125, 0.3975939 , 0.55388741, 0.4677511 ,\n",
              "       0.22483972, 0.14130906, 0.10373383, 0.04388827, 0.36608209,\n",
              "       0.80297347])"
            ]
          },
          "metadata": {},
          "execution_count": 41
        }
      ]
    },
    {
      "cell_type": "code",
      "source": [
        "delta_table[j]"
      ],
      "metadata": {
        "id": "t3mU3tspdzGA",
        "colab": {
          "base_uri": "https://localhost:8080/"
        },
        "outputId": "971a07a8-fee2-43e8-e2a0-24e358b00b4b"
      },
      "execution_count": null,
      "outputs": [
        {
          "output_type": "execute_result",
          "data": {
            "text/plain": [
              "array([0.12512258, 0.18581679, 0.19936962, 0.26853115, 0.25024072,\n",
              "       0.15208812, 0.11404616, 0.0991219 , 0.0567601 , 0.39383168,\n",
              "       1.        ])"
            ]
          },
          "metadata": {},
          "execution_count": 42
        }
      ]
    },
    {
      "cell_type": "code",
      "source": [
        "# Redondeo de los precios de activo y convertirlos a los 15 diferentes estados\n",
        "# [<=93,94,95,96, ... 103,104,105,106, >= 107] - > [0,1,2,3,4,5,....12,13,14,15]\n",
        "price_state_table = np.round(price_table).astype(int)\n",
        "price_state_table = np.where(price_state_table < 93, 93, price_state_table)\n",
        "price_state_table = np.where(price_state_table > 107, 107, price_state_table)\n",
        "price_state_table = price_state_table - 93"
      ],
      "metadata": {
        "id": "cLBU2gg_fM53"
      },
      "execution_count": null,
      "outputs": []
    },
    {
      "cell_type": "code",
      "source": [
        "price_table[4]"
      ],
      "metadata": {
        "id": "77-DiKGngBr3",
        "colab": {
          "base_uri": "https://localhost:8080/"
        },
        "outputId": "e3620a43-a7d8-4d73-f4b2-4ec987ae8db3"
      },
      "execution_count": null,
      "outputs": [
        {
          "output_type": "execute_result",
          "data": {
            "text/plain": [
              "array([100.        , 101.24441421, 101.64933099, 102.65181571,\n",
              "       102.65825039, 101.84965235, 101.73269323, 101.99593789,\n",
              "       102.01200805, 104.61357898, 105.80297347])"
            ]
          },
          "metadata": {},
          "execution_count": 44
        }
      ]
    },
    {
      "cell_type": "code",
      "source": [
        "price_state_table[4]"
      ],
      "metadata": {
        "id": "ZlHKN0bbTSo3",
        "colab": {
          "base_uri": "https://localhost:8080/"
        },
        "outputId": "0f75b6cd-c463-4d31-a167-f34a978078af"
      },
      "execution_count": null,
      "outputs": [
        {
          "output_type": "execute_result",
          "data": {
            "text/plain": [
              "array([ 7,  8,  9, 10, 10,  9,  9,  9,  9, 12, 13])"
            ]
          },
          "metadata": {},
          "execution_count": 45
        }
      ]
    },
    {
      "cell_type": "code",
      "execution_count": null,
      "metadata": {
        "scrolled": true,
        "id": "J7QO1ZM4U_5K"
      },
      "outputs": [],
      "source": [
        "print(\"Entrenamiento en proceso:\")\n",
        "\n",
        "for i in tqdm(range(len(price_table))):\n",
        "\n",
        "    asset_price = price_table[i]\n",
        "    price_state = price_state_table[i]\n",
        "    bscall = call_price_table[i]\n",
        "    position = 0\n",
        "    position_list = np.empty(0, dtype=int)\n",
        "    reward_list = np.empty(0, dtype=int)\n",
        "    action_list = np.empty(0, dtype=int)\n",
        "    total_reward = np.empty(0, dtype=int)\n",
        "\n",
        "    # El agente ve el estado\n",
        "    # El agente toma una desicion (ésta desición modifica el estado en el que está)\n",
        "    # Se actualiza la Q\n",
        "    # Se calcula la recompensa\n",
        "    # Se repite el ciclo\n",
        "\n",
        "    for t in range(M):\n",
        "        if np.random.rand() <= e:\n",
        "            # Aplicamos EXPLORACIÓN\n",
        "            # Note que el rango de las acciones está entre vender 5 shares y comprar 5 shares\n",
        "            # Por eso aquí se restan 5 a la acción tomada\n",
        "            action = random.randrange(0,N_ACTION) - 5\n",
        "        else:\n",
        "            # EXPLOTACIÓN\n",
        "            # Asumimos que en el tiempo 0 el agente tiene 0 shares\n",
        "            if t == 0:\n",
        "                lookup_position = 0\n",
        "\n",
        "            else:\n",
        "                lookup_position = position_list[t-1]\n",
        "            # Si se activa 'explotación', encuentra el mínimo valor no-cero en Q\n",
        "            # Se usa un 'try' porque el agente puede llegar a un estado no visitado antes y ahi todos los valores de Q son ceros\n",
        "            # Si el agente llega a un estado en que nunca ha estado antes, se toma una acción al azar\n",
        "            try:\n",
        "                action = np.where(q[t][price_state[t]][lookup_position]==np.min(q[t][price_state[t]][lookup_position][np.nonzero(q[t][price_state[t]][lookup_position])]))[0][0] - 5\n",
        "            except:\n",
        "                action = random.randrange(0,N_ACTION) - 5\n",
        "\n",
        "        # Obligando al agente a que solo tenga entre 0 y 10 shares\n",
        "        if position + action >10:\n",
        "            action = 10 - position\n",
        "            new_position = 10\n",
        "        elif position + action <0:\n",
        "            action = -position\n",
        "            new_position = 0\n",
        "        else:\n",
        "            new_position = action + position\n",
        "\n",
        "        # Condicional para calcular el costo por transacción (cuando no es cero) Nota: Cuando se quiere encontrar delta para delta hedging, el costo por transacción es 0\n",
        "        # Si t es un día antes de la fecha de madurez, se cobra un extra por venderlos al final del periodo\n",
        "        if t == M-1:\n",
        "            transaction_cost = (asset_price[t]*abs(new_position - position)*TRADING_COST + new_position*asset_price[t+1]*TRADING_COST)\n",
        "        else:\n",
        "            transaction_cost = (asset_price[t]*abs(new_position - position)*TRADING_COST)\n",
        "\n",
        "        # La Recompensa se calcula como\n",
        "        # PNL es una formulación en la que el hedge se calcula en cada etapa\n",
        "        # expected hedging cost + constant * variance of total pnl from hedging.\n",
        "\n",
        "        # Buscando delta, la recompensa es minimizando la varianza de P&L total del caso de hedging\n",
        "        # La constante se toma 1 para el caso de buscar delta.\n",
        "        reward = transaction_cost + constant * (transaction_cost-(asset_price[t+1] - asset_price[t])*new_position+10*(bscall[t+1] - bscall[t]))**2\n",
        "\n",
        "        position_list= np.append(position_list,new_position)\n",
        "        position = new_position\n",
        "        action_list = np.append(action_list,action)\n",
        "        reward_list = np.append(reward_list,reward)\n",
        "\n",
        "\n",
        "    position_list = np.append(position_list,0)\n",
        "    action_list = np.append(action_list,0)\n",
        "    total_reward  = np.append(total_reward,sum(reward_list))\n",
        "\n",
        "    # Convierte la lista de acciones de -5 a 5 en la de 0 a 10, la tabla empieza con el índice 0\n",
        "    # Es decir: índice 0 en la tabla significa acción = -5 e índice 10 en tabla significa acción = 5\n",
        "    action_list = action_list + 5\n",
        "\n",
        "    # Actualizar Q\n",
        "    for t in range(M):\n",
        "        if t == 0:\n",
        "            lookup_position = 0\n",
        "        else:\n",
        "            lookup_position = position_list[t-1]\n",
        "        qnew = reward_list[t] + q[t+1][price_state[t+1]][position_list[t]][action_list[t+1]]\n",
        "        q[t][price_state[t]][lookup_position][action_list[t]] = q[t][price_state[t]][lookup_position][action_list[t]] + ALPHA * (qnew - q[t][price_state[t]][lookup_position][action_list[t]])\n",
        "\n",
        "    # Decae con el tiempo (epsilon) para que el agente se vuela mas propenso a usar EXPLOTACIÓN\n",
        "    if e > MIN_e:\n",
        "        e = e * DECAY\n",
        "\n",
        "# Save Q at the end after training\n",
        "np.save('/content/drive/MyDrive/Cruso-ApsFinancieras/semana10/Q_RL_Hedging',q)"
      ]
    },
    {
      "cell_type": "markdown",
      "source": [
        "# Fase de pruebas\n",
        "\n",
        "Aquí el agente ya no está interesado en aprender, solo en llevar a cabo la mejor decisión posible\n"
      ],
      "metadata": {
        "id": "VIf4fwG9c4rg"
      }
    },
    {
      "cell_type": "code",
      "source": [
        "# Cargar Q de entrenamiento\n",
        "q = np.load('/content/drive/MyDrive/Cruso-ApsFinancieras/semana10/Q_RL_Hedging.npy')"
      ],
      "metadata": {
        "id": "MHqdGC4OjH96"
      },
      "execution_count": null,
      "outputs": []
    },
    {
      "cell_type": "code",
      "source": [
        "q.shape"
      ],
      "metadata": {
        "id": "W9cPAk5upvl-",
        "colab": {
          "base_uri": "https://localhost:8080/"
        },
        "outputId": "6f6fea83-6a9a-454b-b4f0-d33eb2c09133"
      },
      "execution_count": null,
      "outputs": [
        {
          "output_type": "execute_result",
          "data": {
            "text/plain": [
              "(11, 15, 11, 11)"
            ]
          },
          "metadata": {},
          "execution_count": 48
        }
      ]
    },
    {
      "cell_type": "code",
      "source": [
        "[0,  1, 2, 3, 4, 5, 6,  7,  8,  9, 10, 11, 12, 13,  14,  15]\n",
        "\n",
        "[93,94,95,96,97,98,99,100,101,102,103,104,105,106, 107, 108]"
      ],
      "metadata": {
        "id": "I2CvabgyFfrk"
      },
      "execution_count": null,
      "outputs": []
    },
    {
      "cell_type": "code",
      "source": [
        "#  Recordando: q = np.zeros((M+1,STOCK_PRICE_STATE,N_POSITION,N_ACTION))\n",
        "q[     6,    0,        10]"
      ],
      "metadata": {
        "id": "Zqg3yYm4WJsq",
        "colab": {
          "base_uri": "https://localhost:8080/"
        },
        "outputId": "00a3a5b6-8adf-4d30-cee3-5403463ac21d"
      },
      "execution_count": null,
      "outputs": [
        {
          "output_type": "execute_result",
          "data": {
            "text/plain": [
              "array([ 91.82181632,  95.77056659,  95.17033654, 100.11553971,\n",
              "        94.40005046, 265.77037146,   0.        ,   0.        ,\n",
              "         0.        ,   0.        ,   0.        ])"
            ]
          },
          "metadata": {},
          "execution_count": 60
        }
      ]
    },
    {
      "cell_type": "code",
      "source": [
        "# Simulación de trayectorias y cálculo de parámetros BS para fase de entrenamiento de pruebas\n",
        "price_table = brownian_sim(TESTING_SAMPLE,M+1, MU, VOL, S, dt)\n",
        "call_price_table, delta_table = bs_parameter(VOL, ttm / T, price_table, K,R, DIVIDEND)"
      ],
      "metadata": {
        "id": "DmTY-sGQjK_T"
      },
      "execution_count": null,
      "outputs": []
    },
    {
      "cell_type": "code",
      "source": [
        "delta_table"
      ],
      "metadata": {
        "id": "A-2qoPGYKzFO",
        "colab": {
          "base_uri": "https://localhost:8080/"
        },
        "outputId": "9ae282e4-daed-478f-ea7b-f6d465a48a81"
      },
      "execution_count": null,
      "outputs": [
        {
          "output_type": "execute_result",
          "data": {
            "text/plain": [
              "array([[0.12512258, 0.27913514, 0.5146325 , ..., 0.35532724, 0.20411789,\n",
              "        0.        ],\n",
              "       [0.12512258, 0.08079042, 0.10206616, ..., 0.48143373, 0.71405777,\n",
              "        1.        ],\n",
              "       [0.12512258, 0.1139523 , 0.20172529, ..., 0.87064963, 0.96557038,\n",
              "        1.        ],\n",
              "       ...,\n",
              "       [0.12512258, 0.14594922, 0.35642639, ..., 0.00892635, 0.00005581,\n",
              "        0.        ],\n",
              "       [0.12512258, 0.06939223, 0.05205275, ..., 0.        , 0.        ,\n",
              "        0.        ],\n",
              "       [0.12512258, 0.09268545, 0.04862746, ..., 0.0000117 , 0.        ,\n",
              "        0.        ]])"
            ]
          },
          "metadata": {},
          "execution_count": 62
        }
      ]
    },
    {
      "cell_type": "code",
      "source": [
        "# Redondear delta al primer decimal mas cercano\n",
        "rounded_delta = np.round(delta_table*100/10,0).astype(int)/10\n",
        "print(\"Simulación de trayectorias de activos y calculo de parámetros BS completados\")\n",
        "\n",
        "# Redondeo de los precios de activo y convertirlos a los 15 diferentes estados\n",
        "# [<=93,94,95,96, ... 103,104,105,106, >= 107] - > [0,1,2,3,4,5,....12,13,14,15]\n",
        "price_state_table = np.round(price_table).astype(int)\n",
        "price_state_table = np.where(price_state_table < 93, 93, price_state_table)\n",
        "price_state_table = np.where(price_state_table > 107, 107, price_state_table)\n",
        "price_state_table = price_state_table - 93"
      ],
      "metadata": {
        "id": "IXQtISYpjP3W",
        "colab": {
          "base_uri": "https://localhost:8080/"
        },
        "outputId": "6fbffdba-6dfe-4f85-9562-da7c9bc435a8"
      },
      "execution_count": null,
      "outputs": [
        {
          "output_type": "stream",
          "name": "stdout",
          "text": [
            "Simulación de trayectorias de activos y calculo de parámetros BS completados\n"
          ]
        }
      ]
    },
    {
      "cell_type": "code",
      "source": [
        "rounded_delta"
      ],
      "metadata": {
        "id": "mETLiRN0yYBR",
        "colab": {
          "base_uri": "https://localhost:8080/"
        },
        "outputId": "ef0b76e8-6bee-4dc0-c05b-0412f1763c7e"
      },
      "execution_count": null,
      "outputs": [
        {
          "output_type": "execute_result",
          "data": {
            "text/plain": [
              "array([[0.1, 0.3, 0.5, ..., 0.4, 0.2, 0. ],\n",
              "       [0.1, 0.1, 0.1, ..., 0.5, 0.7, 1. ],\n",
              "       [0.1, 0.1, 0.2, ..., 0.9, 1. , 1. ],\n",
              "       ...,\n",
              "       [0.1, 0.1, 0.4, ..., 0. , 0. , 0. ],\n",
              "       [0.1, 0.1, 0.1, ..., 0. , 0. , 0. ],\n",
              "       [0.1, 0.1, 0. , ..., 0. , 0. , 0. ]])"
            ]
          },
          "metadata": {},
          "execution_count": 64
        }
      ]
    },
    {
      "cell_type": "code",
      "source": [
        "delta_table"
      ],
      "metadata": {
        "id": "TycH3edByb1L",
        "colab": {
          "base_uri": "https://localhost:8080/"
        },
        "outputId": "6a00fb45-1c70-4335-b7c4-13d45b60ced1"
      },
      "execution_count": null,
      "outputs": [
        {
          "output_type": "execute_result",
          "data": {
            "text/plain": [
              "array([[0.12512258, 0.27913514, 0.5146325 , ..., 0.35532724, 0.20411789,\n",
              "        0.        ],\n",
              "       [0.12512258, 0.08079042, 0.10206616, ..., 0.48143373, 0.71405777,\n",
              "        1.        ],\n",
              "       [0.12512258, 0.1139523 , 0.20172529, ..., 0.87064963, 0.96557038,\n",
              "        1.        ],\n",
              "       ...,\n",
              "       [0.12512258, 0.14594922, 0.35642639, ..., 0.00892635, 0.00005581,\n",
              "        0.        ],\n",
              "       [0.12512258, 0.06939223, 0.05205275, ..., 0.        , 0.        ,\n",
              "        0.        ],\n",
              "       [0.12512258, 0.09268545, 0.04862746, ..., 0.0000117 , 0.        ,\n",
              "        0.        ]])"
            ]
          },
          "metadata": {},
          "execution_count": 65
        }
      ]
    },
    {
      "cell_type": "code",
      "execution_count": null,
      "metadata": {
        "id": "vhgPLlF8U_5M",
        "colab": {
          "base_uri": "https://localhost:8080/",
          "height": 292,
          "referenced_widgets": [
            "d3989e88a53a4c5fb520404143a7ab5b",
            "c74d514027794bc8acc0f6a35b03e2c2",
            "8955663a608149288f791c6b9f5c475f",
            "27c1deab48d94e54848929437bb0137a",
            "02e2f84331bd48da9c7d6ff766664e66",
            "abb52467e73b4fbdb8e73dd9a2c3c535",
            "de59f084e8b4453a862cb6309193e23d",
            "c1a8f0f359eb4ab39a1fcb922fe8d799",
            "a9f1e533b5164f6ea99cf514408beb2d",
            "c6e5d6d0d6f04f96a1754d8d1354e878",
            "6900d33976bf47f5a1b3f467a198dbd4"
          ]
        },
        "outputId": "263f1e3d-9504-4fc1-eaf3-f11e0e554f57"
      },
      "outputs": [
        {
          "output_type": "stream",
          "name": "stdout",
          "text": [
            "Test is in progress:\n"
          ]
        },
        {
          "output_type": "display_data",
          "data": {
            "text/plain": [
              "  0%|          | 0/100000 [00:00<?, ?it/s]"
            ],
            "application/vnd.jupyter.widget-view+json": {
              "version_major": 2,
              "version_minor": 0,
              "model_id": "d3989e88a53a4c5fb520404143a7ab5b"
            }
          },
          "metadata": {}
        },
        {
          "output_type": "stream",
          "name": "stdout",
          "text": [
            "\n",
            " Estadísticas de Reinforcement Learning Hedging:\n",
            " RL E(C): 13.725376647160433\n",
            " RL var(C): 215.4135329400298\n",
            " RL std(C): 14.67697288067365\n",
            "\n",
            " Estadísticas de Delta Hedging:\n",
            " Delta E(C): 0.927425125703349\n",
            " Delta var(C): 84.12758410608362\n",
            " Delta std(C): 9.172109032609873\n",
            "\n",
            " Diferencia en la posición:\n",
            " Diferencia absoluta promedio entre la position de DH y RLH: 4.6900515\n"
          ]
        }
      ],
      "source": [
        "total_rl_reward = np.empty(0, dtype=int)\n",
        "total_dh_reward = np.empty(0, dtype=int)\n",
        "all_shares_pnl = np.empty(shape=(TESTING_SAMPLE, len(ttm)-1))\n",
        "all_call_option_pnl = np.empty(shape=(TESTING_SAMPLE, len(ttm)-1))\n",
        "abs_deviation = list()\n",
        "\n",
        "print(\"Test is in progress:\")\n",
        "for i in tqdm(range(len(price_table))):\n",
        "\n",
        "    rl_position = 0\n",
        "    dh_position = 0\n",
        "    asset_price = price_table[i]\n",
        "    price_state = price_state_table[i]\n",
        "    bscall = call_price_table[i]\n",
        "    bsdelta = rounded_delta[i]\n",
        "    position_list = np.empty(0, dtype=int)\n",
        "    rl_reward_list = np.empty(0, dtype=int)\n",
        "    dh_reward_list = np.empty(0, dtype=int)\n",
        "    action_list = np.empty(0, dtype=int)\n",
        "    shares_pnl = np.empty(0, dtype=int)\n",
        "    call_option_pnl = np.empty(0, dtype=int)\n",
        "\n",
        "    for t in range(M):\n",
        "\n",
        "        # Posición a mantener si el agente aplicará Delta Hedging\n",
        "        new_dh_position = bsdelta[t]\n",
        "\n",
        "        # Asumimos que en el tiempo 0 el agente tiene 0 shares\n",
        "        if t == 0:\n",
        "            lookup_position = 0\n",
        "        else:\n",
        "            lookup_position = position_list[t-1]\n",
        "\n",
        "        # Escoge acción encontrando el mínimo valor no cero en la tabla Q\n",
        "        # Usar el try porque puede que el agente haya llegado a una posición no antes vista.\n",
        "        # Si eso sucede, el agente no intercambia shares de ninguna manera\n",
        "        try:\n",
        "            rl_action = np.where(q[t][price_state[t]][lookup_position]==np.min(q[t][price_state[t]][lookup_position][np.nonzero(q[t][price_state[t]][lookup_position])]))[0][0] - 5\n",
        "        except:\n",
        "            rl_action = 0\n",
        "\n",
        "        # Obligamos al agente a mantener shares entre 0 y 10\n",
        "        if rl_position + rl_action >10:\n",
        "            rl_action = 10 - rl_position\n",
        "            new_rl_position = 10\n",
        "        elif rl_position + rl_action <0:\n",
        "            rl_action = -rl_position\n",
        "            new_rl_position = 0\n",
        "        else:\n",
        "            new_rl_position = rl_action + rl_position\n",
        "\n",
        "        # Calculamos el P&L periodo a periodo para ambos casos: Delta Hedge y Renforcement Learning Hedging\n",
        "        if t == M-1:\n",
        "            rl_transaction_cost = (asset_price[t]*abs(new_rl_position - rl_position)*TRADING_COST + new_rl_position*asset_price[t+1]*TRADING_COST)\n",
        "            dh_transaction_cost = (asset_price[t]*abs(new_dh_position - dh_position)*TRADING_COST + new_dh_position*asset_price[t+1]*TRADING_COST)\n",
        "        else:\n",
        "            rl_transaction_cost = (asset_price[t]*abs(new_rl_position - rl_position)*TRADING_COST)\n",
        "            dh_transaction_cost = (asset_price[t]*abs(new_dh_position - dh_position)*TRADING_COST)\n",
        "\n",
        "\n",
        "        call_option_pnl = np.append(call_option_pnl,10*(bscall[t+1] - bscall[t]))\n",
        "        shares_pnl = np.append(shares_pnl, (asset_price[t+1] - asset_price[t])*new_rl_position)\n",
        "        rl_reward = rl_transaction_cost - (asset_price[t+1] - asset_price[t])*new_rl_position+10*(bscall[t+1] - bscall[t])\n",
        "        dh_reward = dh_transaction_cost - (asset_price[t+1] - asset_price[t])*new_dh_position+10*(bscall[t+1] - bscall[t])\n",
        "\n",
        "\n",
        "        position_list= np.append(position_list,new_rl_position)\n",
        "        action_list = np.append(action_list,rl_action)\n",
        "        rl_position = new_rl_position\n",
        "        dh_position = new_dh_position\n",
        "        rl_reward_list = np.append(rl_reward_list,rl_reward)\n",
        "        dh_reward_list = np.append(dh_reward_list,dh_reward)\n",
        "\n",
        "    abs_deviation = np.append(abs_deviation,sum(abs(bsdelta[:-1]-position_list))/10)\n",
        "    position_list = np.append(position_list,0)\n",
        "    action_list = np.append(action_list,0)\n",
        "    total_rl_reward = np.append(total_rl_reward,sum(rl_reward_list))\n",
        "    total_dh_reward = np.append(total_dh_reward,sum(dh_reward_list))\n",
        "    all_shares_pnl[i,:] = shares_pnl\n",
        "    all_call_option_pnl[i,:]  = call_option_pnl\n",
        "\n",
        "print('\\n Estadísticas de Reinforcement Learning Hedging:')\n",
        "print(' RL E(C):', np.average(total_rl_reward))\n",
        "print(' RL var(C):', np.var(total_rl_reward))\n",
        "print(' RL std(C):', np.std(total_rl_reward))\n",
        "\n",
        "print('\\n Estadísticas de Delta Hedging:')\n",
        "print(' Delta E(C):', np.average(total_dh_reward))\n",
        "print(' Delta var(C):', np.var(total_dh_reward))\n",
        "print(' Delta std(C):', np.std(total_dh_reward))\n",
        "\n",
        "print('\\n Diferencia en la posición:')\n",
        "print(' Diferencia absoluta promedio entre la position de DH y RLH:', np.average(abs_deviation))\n"
      ]
    },
    {
      "cell_type": "code",
      "source": [
        "q[6, 13, 8]"
      ],
      "metadata": {
        "colab": {
          "base_uri": "https://localhost:8080/"
        },
        "id": "N5lt9KuUz4iE",
        "outputId": "e68afaff-f9e6-433c-8d4a-4d410a8e2a20"
      },
      "execution_count": null,
      "outputs": [
        {
          "output_type": "execute_result",
          "data": {
            "text/plain": [
              "array([221.65819637, 179.96013635, 168.92664142, 146.20527998,\n",
              "       135.40998258, 131.31107164, 128.5033261 , 108.42277571,\n",
              "         0.        ,   0.        ,   0.        ])"
            ]
          },
          "metadata": {},
          "execution_count": 72
        }
      ]
    }
  ],
  "metadata": {
    "kernelspec": {
      "display_name": "Python 3",
      "language": "python",
      "name": "python3"
    },
    "language_info": {
      "codemirror_mode": {
        "name": "ipython",
        "version": 3
      },
      "file_extension": ".py",
      "mimetype": "text/x-python",
      "name": "python",
      "nbconvert_exporter": "python",
      "pygments_lexer": "ipython3",
      "version": "3.7.6"
    },
    "colab": {
      "provenance": [],
      "include_colab_link": true
    },
    "accelerator": "GPU",
    "gpuClass": "standard",
    "widgets": {
      "application/vnd.jupyter.widget-state+json": {
        "c86e013e2f5b4ac2b24540101ce79f29": {
          "model_module": "@jupyter-widgets/controls",
          "model_name": "HBoxModel",
          "model_module_version": "1.5.0",
          "state": {
            "_dom_classes": [],
            "_model_module": "@jupyter-widgets/controls",
            "_model_module_version": "1.5.0",
            "_model_name": "HBoxModel",
            "_view_count": null,
            "_view_module": "@jupyter-widgets/controls",
            "_view_module_version": "1.5.0",
            "_view_name": "HBoxView",
            "box_style": "",
            "children": [
              "IPY_MODEL_ba0e8d7ff3ad435d801a0972c9651d57",
              "IPY_MODEL_b18dd00562ca435a84d60a7ee3461efb",
              "IPY_MODEL_8faf277a988647b08db97831ff3c361c"
            ],
            "layout": "IPY_MODEL_ca5d3b69f1d34795ad0472ef07544172"
          }
        },
        "ba0e8d7ff3ad435d801a0972c9651d57": {
          "model_module": "@jupyter-widgets/controls",
          "model_name": "HTMLModel",
          "model_module_version": "1.5.0",
          "state": {
            "_dom_classes": [],
            "_model_module": "@jupyter-widgets/controls",
            "_model_module_version": "1.5.0",
            "_model_name": "HTMLModel",
            "_view_count": null,
            "_view_module": "@jupyter-widgets/controls",
            "_view_module_version": "1.5.0",
            "_view_name": "HTMLView",
            "description": "",
            "description_tooltip": null,
            "layout": "IPY_MODEL_6503f98b522744cb98acf1bedc4ead86",
            "placeholder": "​",
            "style": "IPY_MODEL_9108ae82d26b403382c090ff65d19afb",
            "value": "100%"
          }
        },
        "b18dd00562ca435a84d60a7ee3461efb": {
          "model_module": "@jupyter-widgets/controls",
          "model_name": "FloatProgressModel",
          "model_module_version": "1.5.0",
          "state": {
            "_dom_classes": [],
            "_model_module": "@jupyter-widgets/controls",
            "_model_module_version": "1.5.0",
            "_model_name": "FloatProgressModel",
            "_view_count": null,
            "_view_module": "@jupyter-widgets/controls",
            "_view_module_version": "1.5.0",
            "_view_name": "ProgressView",
            "bar_style": "success",
            "description": "",
            "description_tooltip": null,
            "layout": "IPY_MODEL_b06be2811d394604baa606d60c4461bd",
            "max": 10000000,
            "min": 0,
            "orientation": "horizontal",
            "style": "IPY_MODEL_97fb834cfda941299d2b4bbbc7eded78",
            "value": 10000000
          }
        },
        "8faf277a988647b08db97831ff3c361c": {
          "model_module": "@jupyter-widgets/controls",
          "model_name": "HTMLModel",
          "model_module_version": "1.5.0",
          "state": {
            "_dom_classes": [],
            "_model_module": "@jupyter-widgets/controls",
            "_model_module_version": "1.5.0",
            "_model_name": "HTMLModel",
            "_view_count": null,
            "_view_module": "@jupyter-widgets/controls",
            "_view_module_version": "1.5.0",
            "_view_name": "HTMLView",
            "description": "",
            "description_tooltip": null,
            "layout": "IPY_MODEL_7f60ff7369b8404ba4daf77ea936243e",
            "placeholder": "​",
            "style": "IPY_MODEL_b22fd17e1d534ab586b86c7a05a51034",
            "value": " 10000000/10000000 [00:03&lt;00:00, 3168736.25it/s]"
          }
        },
        "ca5d3b69f1d34795ad0472ef07544172": {
          "model_module": "@jupyter-widgets/base",
          "model_name": "LayoutModel",
          "model_module_version": "1.2.0",
          "state": {
            "_model_module": "@jupyter-widgets/base",
            "_model_module_version": "1.2.0",
            "_model_name": "LayoutModel",
            "_view_count": null,
            "_view_module": "@jupyter-widgets/base",
            "_view_module_version": "1.2.0",
            "_view_name": "LayoutView",
            "align_content": null,
            "align_items": null,
            "align_self": null,
            "border": null,
            "bottom": null,
            "display": null,
            "flex": null,
            "flex_flow": null,
            "grid_area": null,
            "grid_auto_columns": null,
            "grid_auto_flow": null,
            "grid_auto_rows": null,
            "grid_column": null,
            "grid_gap": null,
            "grid_row": null,
            "grid_template_areas": null,
            "grid_template_columns": null,
            "grid_template_rows": null,
            "height": null,
            "justify_content": null,
            "justify_items": null,
            "left": null,
            "margin": null,
            "max_height": null,
            "max_width": null,
            "min_height": null,
            "min_width": null,
            "object_fit": null,
            "object_position": null,
            "order": null,
            "overflow": null,
            "overflow_x": null,
            "overflow_y": null,
            "padding": null,
            "right": null,
            "top": null,
            "visibility": null,
            "width": null
          }
        },
        "6503f98b522744cb98acf1bedc4ead86": {
          "model_module": "@jupyter-widgets/base",
          "model_name": "LayoutModel",
          "model_module_version": "1.2.0",
          "state": {
            "_model_module": "@jupyter-widgets/base",
            "_model_module_version": "1.2.0",
            "_model_name": "LayoutModel",
            "_view_count": null,
            "_view_module": "@jupyter-widgets/base",
            "_view_module_version": "1.2.0",
            "_view_name": "LayoutView",
            "align_content": null,
            "align_items": null,
            "align_self": null,
            "border": null,
            "bottom": null,
            "display": null,
            "flex": null,
            "flex_flow": null,
            "grid_area": null,
            "grid_auto_columns": null,
            "grid_auto_flow": null,
            "grid_auto_rows": null,
            "grid_column": null,
            "grid_gap": null,
            "grid_row": null,
            "grid_template_areas": null,
            "grid_template_columns": null,
            "grid_template_rows": null,
            "height": null,
            "justify_content": null,
            "justify_items": null,
            "left": null,
            "margin": null,
            "max_height": null,
            "max_width": null,
            "min_height": null,
            "min_width": null,
            "object_fit": null,
            "object_position": null,
            "order": null,
            "overflow": null,
            "overflow_x": null,
            "overflow_y": null,
            "padding": null,
            "right": null,
            "top": null,
            "visibility": null,
            "width": null
          }
        },
        "9108ae82d26b403382c090ff65d19afb": {
          "model_module": "@jupyter-widgets/controls",
          "model_name": "DescriptionStyleModel",
          "model_module_version": "1.5.0",
          "state": {
            "_model_module": "@jupyter-widgets/controls",
            "_model_module_version": "1.5.0",
            "_model_name": "DescriptionStyleModel",
            "_view_count": null,
            "_view_module": "@jupyter-widgets/base",
            "_view_module_version": "1.2.0",
            "_view_name": "StyleView",
            "description_width": ""
          }
        },
        "b06be2811d394604baa606d60c4461bd": {
          "model_module": "@jupyter-widgets/base",
          "model_name": "LayoutModel",
          "model_module_version": "1.2.0",
          "state": {
            "_model_module": "@jupyter-widgets/base",
            "_model_module_version": "1.2.0",
            "_model_name": "LayoutModel",
            "_view_count": null,
            "_view_module": "@jupyter-widgets/base",
            "_view_module_version": "1.2.0",
            "_view_name": "LayoutView",
            "align_content": null,
            "align_items": null,
            "align_self": null,
            "border": null,
            "bottom": null,
            "display": null,
            "flex": null,
            "flex_flow": null,
            "grid_area": null,
            "grid_auto_columns": null,
            "grid_auto_flow": null,
            "grid_auto_rows": null,
            "grid_column": null,
            "grid_gap": null,
            "grid_row": null,
            "grid_template_areas": null,
            "grid_template_columns": null,
            "grid_template_rows": null,
            "height": null,
            "justify_content": null,
            "justify_items": null,
            "left": null,
            "margin": null,
            "max_height": null,
            "max_width": null,
            "min_height": null,
            "min_width": null,
            "object_fit": null,
            "object_position": null,
            "order": null,
            "overflow": null,
            "overflow_x": null,
            "overflow_y": null,
            "padding": null,
            "right": null,
            "top": null,
            "visibility": null,
            "width": null
          }
        },
        "97fb834cfda941299d2b4bbbc7eded78": {
          "model_module": "@jupyter-widgets/controls",
          "model_name": "ProgressStyleModel",
          "model_module_version": "1.5.0",
          "state": {
            "_model_module": "@jupyter-widgets/controls",
            "_model_module_version": "1.5.0",
            "_model_name": "ProgressStyleModel",
            "_view_count": null,
            "_view_module": "@jupyter-widgets/base",
            "_view_module_version": "1.2.0",
            "_view_name": "StyleView",
            "bar_color": null,
            "description_width": ""
          }
        },
        "7f60ff7369b8404ba4daf77ea936243e": {
          "model_module": "@jupyter-widgets/base",
          "model_name": "LayoutModel",
          "model_module_version": "1.2.0",
          "state": {
            "_model_module": "@jupyter-widgets/base",
            "_model_module_version": "1.2.0",
            "_model_name": "LayoutModel",
            "_view_count": null,
            "_view_module": "@jupyter-widgets/base",
            "_view_module_version": "1.2.0",
            "_view_name": "LayoutView",
            "align_content": null,
            "align_items": null,
            "align_self": null,
            "border": null,
            "bottom": null,
            "display": null,
            "flex": null,
            "flex_flow": null,
            "grid_area": null,
            "grid_auto_columns": null,
            "grid_auto_flow": null,
            "grid_auto_rows": null,
            "grid_column": null,
            "grid_gap": null,
            "grid_row": null,
            "grid_template_areas": null,
            "grid_template_columns": null,
            "grid_template_rows": null,
            "height": null,
            "justify_content": null,
            "justify_items": null,
            "left": null,
            "margin": null,
            "max_height": null,
            "max_width": null,
            "min_height": null,
            "min_width": null,
            "object_fit": null,
            "object_position": null,
            "order": null,
            "overflow": null,
            "overflow_x": null,
            "overflow_y": null,
            "padding": null,
            "right": null,
            "top": null,
            "visibility": null,
            "width": null
          }
        },
        "b22fd17e1d534ab586b86c7a05a51034": {
          "model_module": "@jupyter-widgets/controls",
          "model_name": "DescriptionStyleModel",
          "model_module_version": "1.5.0",
          "state": {
            "_model_module": "@jupyter-widgets/controls",
            "_model_module_version": "1.5.0",
            "_model_name": "DescriptionStyleModel",
            "_view_count": null,
            "_view_module": "@jupyter-widgets/base",
            "_view_module_version": "1.2.0",
            "_view_name": "StyleView",
            "description_width": ""
          }
        },
        "d3989e88a53a4c5fb520404143a7ab5b": {
          "model_module": "@jupyter-widgets/controls",
          "model_name": "HBoxModel",
          "model_module_version": "1.5.0",
          "state": {
            "_dom_classes": [],
            "_model_module": "@jupyter-widgets/controls",
            "_model_module_version": "1.5.0",
            "_model_name": "HBoxModel",
            "_view_count": null,
            "_view_module": "@jupyter-widgets/controls",
            "_view_module_version": "1.5.0",
            "_view_name": "HBoxView",
            "box_style": "",
            "children": [
              "IPY_MODEL_c74d514027794bc8acc0f6a35b03e2c2",
              "IPY_MODEL_8955663a608149288f791c6b9f5c475f",
              "IPY_MODEL_27c1deab48d94e54848929437bb0137a"
            ],
            "layout": "IPY_MODEL_02e2f84331bd48da9c7d6ff766664e66"
          }
        },
        "c74d514027794bc8acc0f6a35b03e2c2": {
          "model_module": "@jupyter-widgets/controls",
          "model_name": "HTMLModel",
          "model_module_version": "1.5.0",
          "state": {
            "_dom_classes": [],
            "_model_module": "@jupyter-widgets/controls",
            "_model_module_version": "1.5.0",
            "_model_name": "HTMLModel",
            "_view_count": null,
            "_view_module": "@jupyter-widgets/controls",
            "_view_module_version": "1.5.0",
            "_view_name": "HTMLView",
            "description": "",
            "description_tooltip": null,
            "layout": "IPY_MODEL_abb52467e73b4fbdb8e73dd9a2c3c535",
            "placeholder": "​",
            "style": "IPY_MODEL_de59f084e8b4453a862cb6309193e23d",
            "value": "100%"
          }
        },
        "8955663a608149288f791c6b9f5c475f": {
          "model_module": "@jupyter-widgets/controls",
          "model_name": "FloatProgressModel",
          "model_module_version": "1.5.0",
          "state": {
            "_dom_classes": [],
            "_model_module": "@jupyter-widgets/controls",
            "_model_module_version": "1.5.0",
            "_model_name": "FloatProgressModel",
            "_view_count": null,
            "_view_module": "@jupyter-widgets/controls",
            "_view_module_version": "1.5.0",
            "_view_name": "ProgressView",
            "bar_style": "success",
            "description": "",
            "description_tooltip": null,
            "layout": "IPY_MODEL_c1a8f0f359eb4ab39a1fcb922fe8d799",
            "max": 100000,
            "min": 0,
            "orientation": "horizontal",
            "style": "IPY_MODEL_a9f1e533b5164f6ea99cf514408beb2d",
            "value": 100000
          }
        },
        "27c1deab48d94e54848929437bb0137a": {
          "model_module": "@jupyter-widgets/controls",
          "model_name": "HTMLModel",
          "model_module_version": "1.5.0",
          "state": {
            "_dom_classes": [],
            "_model_module": "@jupyter-widgets/controls",
            "_model_module_version": "1.5.0",
            "_model_name": "HTMLModel",
            "_view_count": null,
            "_view_module": "@jupyter-widgets/controls",
            "_view_module_version": "1.5.0",
            "_view_name": "HTMLView",
            "description": "",
            "description_tooltip": null,
            "layout": "IPY_MODEL_c6e5d6d0d6f04f96a1754d8d1354e878",
            "placeholder": "​",
            "style": "IPY_MODEL_6900d33976bf47f5a1b3f467a198dbd4",
            "value": " 100000/100000 [01:25&lt;00:00, 1169.31it/s]"
          }
        },
        "02e2f84331bd48da9c7d6ff766664e66": {
          "model_module": "@jupyter-widgets/base",
          "model_name": "LayoutModel",
          "model_module_version": "1.2.0",
          "state": {
            "_model_module": "@jupyter-widgets/base",
            "_model_module_version": "1.2.0",
            "_model_name": "LayoutModel",
            "_view_count": null,
            "_view_module": "@jupyter-widgets/base",
            "_view_module_version": "1.2.0",
            "_view_name": "LayoutView",
            "align_content": null,
            "align_items": null,
            "align_self": null,
            "border": null,
            "bottom": null,
            "display": null,
            "flex": null,
            "flex_flow": null,
            "grid_area": null,
            "grid_auto_columns": null,
            "grid_auto_flow": null,
            "grid_auto_rows": null,
            "grid_column": null,
            "grid_gap": null,
            "grid_row": null,
            "grid_template_areas": null,
            "grid_template_columns": null,
            "grid_template_rows": null,
            "height": null,
            "justify_content": null,
            "justify_items": null,
            "left": null,
            "margin": null,
            "max_height": null,
            "max_width": null,
            "min_height": null,
            "min_width": null,
            "object_fit": null,
            "object_position": null,
            "order": null,
            "overflow": null,
            "overflow_x": null,
            "overflow_y": null,
            "padding": null,
            "right": null,
            "top": null,
            "visibility": null,
            "width": null
          }
        },
        "abb52467e73b4fbdb8e73dd9a2c3c535": {
          "model_module": "@jupyter-widgets/base",
          "model_name": "LayoutModel",
          "model_module_version": "1.2.0",
          "state": {
            "_model_module": "@jupyter-widgets/base",
            "_model_module_version": "1.2.0",
            "_model_name": "LayoutModel",
            "_view_count": null,
            "_view_module": "@jupyter-widgets/base",
            "_view_module_version": "1.2.0",
            "_view_name": "LayoutView",
            "align_content": null,
            "align_items": null,
            "align_self": null,
            "border": null,
            "bottom": null,
            "display": null,
            "flex": null,
            "flex_flow": null,
            "grid_area": null,
            "grid_auto_columns": null,
            "grid_auto_flow": null,
            "grid_auto_rows": null,
            "grid_column": null,
            "grid_gap": null,
            "grid_row": null,
            "grid_template_areas": null,
            "grid_template_columns": null,
            "grid_template_rows": null,
            "height": null,
            "justify_content": null,
            "justify_items": null,
            "left": null,
            "margin": null,
            "max_height": null,
            "max_width": null,
            "min_height": null,
            "min_width": null,
            "object_fit": null,
            "object_position": null,
            "order": null,
            "overflow": null,
            "overflow_x": null,
            "overflow_y": null,
            "padding": null,
            "right": null,
            "top": null,
            "visibility": null,
            "width": null
          }
        },
        "de59f084e8b4453a862cb6309193e23d": {
          "model_module": "@jupyter-widgets/controls",
          "model_name": "DescriptionStyleModel",
          "model_module_version": "1.5.0",
          "state": {
            "_model_module": "@jupyter-widgets/controls",
            "_model_module_version": "1.5.0",
            "_model_name": "DescriptionStyleModel",
            "_view_count": null,
            "_view_module": "@jupyter-widgets/base",
            "_view_module_version": "1.2.0",
            "_view_name": "StyleView",
            "description_width": ""
          }
        },
        "c1a8f0f359eb4ab39a1fcb922fe8d799": {
          "model_module": "@jupyter-widgets/base",
          "model_name": "LayoutModel",
          "model_module_version": "1.2.0",
          "state": {
            "_model_module": "@jupyter-widgets/base",
            "_model_module_version": "1.2.0",
            "_model_name": "LayoutModel",
            "_view_count": null,
            "_view_module": "@jupyter-widgets/base",
            "_view_module_version": "1.2.0",
            "_view_name": "LayoutView",
            "align_content": null,
            "align_items": null,
            "align_self": null,
            "border": null,
            "bottom": null,
            "display": null,
            "flex": null,
            "flex_flow": null,
            "grid_area": null,
            "grid_auto_columns": null,
            "grid_auto_flow": null,
            "grid_auto_rows": null,
            "grid_column": null,
            "grid_gap": null,
            "grid_row": null,
            "grid_template_areas": null,
            "grid_template_columns": null,
            "grid_template_rows": null,
            "height": null,
            "justify_content": null,
            "justify_items": null,
            "left": null,
            "margin": null,
            "max_height": null,
            "max_width": null,
            "min_height": null,
            "min_width": null,
            "object_fit": null,
            "object_position": null,
            "order": null,
            "overflow": null,
            "overflow_x": null,
            "overflow_y": null,
            "padding": null,
            "right": null,
            "top": null,
            "visibility": null,
            "width": null
          }
        },
        "a9f1e533b5164f6ea99cf514408beb2d": {
          "model_module": "@jupyter-widgets/controls",
          "model_name": "ProgressStyleModel",
          "model_module_version": "1.5.0",
          "state": {
            "_model_module": "@jupyter-widgets/controls",
            "_model_module_version": "1.5.0",
            "_model_name": "ProgressStyleModel",
            "_view_count": null,
            "_view_module": "@jupyter-widgets/base",
            "_view_module_version": "1.2.0",
            "_view_name": "StyleView",
            "bar_color": null,
            "description_width": ""
          }
        },
        "c6e5d6d0d6f04f96a1754d8d1354e878": {
          "model_module": "@jupyter-widgets/base",
          "model_name": "LayoutModel",
          "model_module_version": "1.2.0",
          "state": {
            "_model_module": "@jupyter-widgets/base",
            "_model_module_version": "1.2.0",
            "_model_name": "LayoutModel",
            "_view_count": null,
            "_view_module": "@jupyter-widgets/base",
            "_view_module_version": "1.2.0",
            "_view_name": "LayoutView",
            "align_content": null,
            "align_items": null,
            "align_self": null,
            "border": null,
            "bottom": null,
            "display": null,
            "flex": null,
            "flex_flow": null,
            "grid_area": null,
            "grid_auto_columns": null,
            "grid_auto_flow": null,
            "grid_auto_rows": null,
            "grid_column": null,
            "grid_gap": null,
            "grid_row": null,
            "grid_template_areas": null,
            "grid_template_columns": null,
            "grid_template_rows": null,
            "height": null,
            "justify_content": null,
            "justify_items": null,
            "left": null,
            "margin": null,
            "max_height": null,
            "max_width": null,
            "min_height": null,
            "min_width": null,
            "object_fit": null,
            "object_position": null,
            "order": null,
            "overflow": null,
            "overflow_x": null,
            "overflow_y": null,
            "padding": null,
            "right": null,
            "top": null,
            "visibility": null,
            "width": null
          }
        },
        "6900d33976bf47f5a1b3f467a198dbd4": {
          "model_module": "@jupyter-widgets/controls",
          "model_name": "DescriptionStyleModel",
          "model_module_version": "1.5.0",
          "state": {
            "_model_module": "@jupyter-widgets/controls",
            "_model_module_version": "1.5.0",
            "_model_name": "DescriptionStyleModel",
            "_view_count": null,
            "_view_module": "@jupyter-widgets/base",
            "_view_module_version": "1.2.0",
            "_view_name": "StyleView",
            "description_width": ""
          }
        }
      }
    }
  },
  "nbformat": 4,
  "nbformat_minor": 0
}